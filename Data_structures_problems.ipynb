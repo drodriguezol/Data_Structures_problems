{
  "nbformat": 4,
  "nbformat_minor": 0,
  "metadata": {
    "colab": {
      "provenance": [],
      "collapsed_sections": []
    },
    "kernelspec": {
      "name": "python3",
      "display_name": "Python 3"
    },
    "language_info": {
      "name": "python"
    }
  },
  "cells": [
    {
      "cell_type": "markdown",
      "source": [
        "# Daniel Ricardo Rodriguez Olarte\n",
        "\n",
        "This notebook contains some solutions of the assigments of the course \"Data Structures of University of California\""
      ],
      "metadata": {
        "id": "A4CrF3BZ_Guo"
      }
    },
    {
      "cell_type": "markdown",
      "source": [
        "# **# WEEK 1-BASIC DATA STRUCTURES** \n",
        "\n",
        "\n"
      ],
      "metadata": {
        "id": "M77gXvmu1fS4"
      }
    },
    {
      "cell_type": "markdown",
      "source": [
        "# 1.Check brackets in the code\n",
        "\n",
        "#Problem Introduction\n",
        "In this problem you will implement a feature for a text editor to find errors in the usage of brackets in the code.\n",
        "Problem Description\n",
        "Task. Your friend is making a text editor for programmers. He is currently working on a feature that will find errors in the usage of different types of brackets. Code can contain any brackets from the set []{}(), where the opening brackets are [,{, and ( and the closing brackets corresponding to them are ],}, and ).\n",
        "For convenience, the text editor should not only inform the user that there is an error in the usage of brackets, but also point to the exact place in the code with the problematic bracket. First priority is to find the first unmatched closing bracket which either doesn’t have an opening bracket before it, like ] in ](), or closes the wrong opening bracket, like } in ()[}. If there are no such mistakes, then it should find the first unmatched opening bracket without the corresponding closing bracket after it, like ( in {}([]. If there are no mistakes, text editor should inform the user that the usage of brackets is correct.\n",
        "Apart from the brackets, code can contain big and small latin letters, digits and punctuation marks.\n",
        "More formally, all brackets in the code should be divided into pairs of matching brackets, such that in each pair the opening bracket goes before the closing bracket, and for any two pairs of brackets either one of them is nested inside another one as in (foo[bar]) or they are separate as in f(a,b)-g[c]. The bracket [ corresponds to the bracket ], { corresponds to }, and ( corresponds to ).\n",
        "\n",
        "#Input Format. \n",
        "Input contains one string 𝑆 which consists of big and small latin letters, digits, punctuation marks and brackets from the set []{}().\n",
        "Constraints. The length of 𝑆 is at least 1 and at most 105.\n",
        "\n",
        "#Output Format. \n",
        "If the code in 𝑆 uses brackets correctly, output “Success\" (without the quotes). Otherwise, output the 1-based index of the first unmatched closing bracket, and if there are no unmatched closing brackets, output the 1-based index of the first unmatched opening bracket."
      ],
      "metadata": {
        "id": "ODM3W1Wo-4hY"
      }
    },
    {
      "cell_type": "code",
      "source": [
        "# python3\n",
        "def are_matching(left, right):\n",
        "    return (left + right) in [\"()\", \"[]\", \"{}\"]\n",
        "\n",
        "def find_mismatch(text):\n",
        "    opening_brackets_stack = []\n",
        "    tuple_text=[]\n",
        "    j=1\n",
        "    verify=False\n",
        "    for i in text:\n",
        "      tuple_text.append((i,j))\n",
        "      if(i == \"(\" or i ==\"[\" or i == \"{\"):  opening_brackets_stack.append((i,j))\n",
        "      if(i == \")\" or i == \"]\" or i == \"}\"):\n",
        "        if(len(opening_brackets_stack)== 0):  return j\n",
        "        current = opening_brackets_stack.pop(-1)\n",
        "        verify = are_matching(current[0],i)\n",
        "        if verify == False : return j\n",
        "      j=j+1\n",
        "\n",
        "    if(len(opening_brackets_stack)>0): \n",
        "      return tuple_text.index(opening_brackets_stack[0])+1\n",
        "    if verify == True:\n",
        "      return  \"Success\"\n",
        "    else:\n",
        "      return \"Success\"\n",
        "        \n",
        "\n",
        "def main():\n",
        "    print(\"Examples:\")\n",
        "    print(\"brackets: [][]\" , find_mismatch(\"[][]\"))\n",
        "    print(\"brackets: [)()] \", find_mismatch(\"[)()]\"))\n",
        "    print(\"brackets: hello(){}world} \", find_mismatch(\"hello(){}world}\"))\n",
        "\n",
        "if __name__ == \"__main__\":\n",
        "    main()\n"
      ],
      "metadata": {
        "colab": {
          "base_uri": "https://localhost:8080/"
        },
        "id": "68nlGfhe_FMU",
        "outputId": "00b3860f-660c-4727-d9a7-aef91273de65"
      },
      "execution_count": null,
      "outputs": [
        {
          "output_type": "stream",
          "name": "stdout",
          "text": [
            "Examples:\n",
            "brackets: [][] Success\n",
            "brackets: [)()]  2\n",
            "brackets: hello(){}world}  15\n"
          ]
        }
      ]
    },
    {
      "cell_type": "markdown",
      "source": [
        "##2.Compute tree height\n",
        "\n",
        "##Problem Introduction\n",
        "\n",
        "Trees are used to manipulate hierarchical data such as hierarchy of categories of a retailer or the directory structure on your computer. They are also used in data analysis and machine learning both for hierarchi- cal clustering and building complex predictive models, including some of the best-performing in practice algorithms like Gradient Boosting over Decision Trees and Random Forests. In the later modules of this course, we will introduce balanced binary search trees (BST) — a special kind of trees that allows to very efficiently store, manipulate and retrieve data. Balanced BSTs are thus used in databases for efficient storage and actually in virtually any non-trivial programs, typically via built-in data structures of the programming language at hand.\n",
        "In this problem, your goal is to get used to trees. You will need to read a description of a tree from the input, implement the tree data structure, store the tree and compute its height.\n",
        "\n",
        "##Problem Description\n",
        "\n",
        "Task. You are given a description of a rooted tree. Your task is to compute and output its height. Recall that the height of a (rooted) tree is the maximum depth of a node, or the maximum distance from a leaf to the root. You are given an arbitrary tree, not necessarily a binary tree.\n",
        "##Input Format.\n",
        " The first line contains the number of nodes 𝑛. The second line contains 𝑛 integer numbers from −1 to 𝑛 − 1 — parents of nodes. If the 𝑖-th one of them (0 ≤ 𝑖 ≤ 𝑛 − 1) is −1, node 𝑖 is the root, otherwise it’s 0-based index of the parent of 𝑖-th node. It is guaranteed that there is exactly one root. It is guaranteed that the input represents a tree.\n",
        "#Output Format. \n",
        "Output the height of the tree."
      ],
      "metadata": {
        "id": "VsGdHJ9zayLe"
      }
    },
    {
      "cell_type": "code",
      "source": [
        "#first recursive solution\n",
        "#not too optimal just work for first cases then runtime out\n",
        "\n",
        "height=0\n",
        "count=1\n",
        "count2=1\n",
        "def compute_height(parents,root_node):\n",
        "    global count\n",
        "    global count2\n",
        "    global height\n",
        "    sons=[]\n",
        "    for i,x in enumerate(parents):\n",
        "      if x == root_node:\n",
        "        sons.append(i)\n",
        "        parents[i] = -1\n",
        "    if len(sons) == 0:\n",
        "      if (count>height):\n",
        "        height=count\n",
        "    for i in sons:\n",
        "      count=count+1\n",
        "      parents[i]=\"/\"\n",
        "      root_node = i\n",
        "      compute_height(parents,root_node)\n",
        "      count=count-1\n",
        "    return(height)\n",
        "\n",
        "\n",
        "def main():\n",
        "    n = int(input())\n",
        "    parents = list(map(int, input().split()))\n",
        "    root_node = parents.index(-1)\n",
        "    print(compute_height(parents ,root_node))\n",
        "\n",
        "main()\n"
      ],
      "metadata": {
        "id": "fAEWvNZHE438"
      },
      "execution_count": null,
      "outputs": []
    },
    {
      "cell_type": "code",
      "source": [
        "# python3\n",
        "#Solution\n",
        "#!!!!!!we need this but colab didnt compile this\n",
        "#sys.setrecursionlimit(10 ** 7)  # max depth of recursion\n",
        "#threading.stack_size(2 ** 25)  # new thread will get stack of such size\n",
        "class TreeHeight:\n",
        "    def __init__(self):\n",
        "        self.n = 0\n",
        "        self.parent = []\n",
        "        self.heights = []\n",
        "\n",
        "    def read(self):\n",
        "        self.n = int(input())\n",
        "        self.parent = list(map(int, input().split()))\n",
        "        self.heights = [0] * (self.n)\n",
        "\n",
        "    def path_len(self, node_id):\n",
        "        #returns the height of all nodes excpetd leafs\n",
        "        parent = self.parent[node_id]\n",
        "        if parent == -1:\n",
        "            return 1\n",
        "        if self.heights[node_id]:\n",
        "            #print(self.heights[node_id],\"ok\")\n",
        "            return self.heights[node_id]\n",
        "        self.heights[node_id] = 1 + self.path_len(self.parent[node_id])\n",
        "        return self.heights[node_id]\n",
        "\n",
        "    def compute_height(self):\n",
        "        \"\"\"Computes the tree height.\"\"\"\n",
        "        return max([self.path_len(i) for i in range(self.n)])\n",
        "\n",
        "\n",
        "def main():\n",
        "    print(\"Example:\")\n",
        "    tree = TreeHeight()\n",
        "    tree.read()\n",
        "    print(tree.compute_height())\n",
        "\n",
        "main()\n",
        "#threading.Thread(target=main).start()"
      ],
      "metadata": {
        "colab": {
          "base_uri": "https://localhost:8080/"
        },
        "id": "Cq78AwptfkcK",
        "outputId": "fea1ebcc-513b-4ce2-c5e5-bc34c66f9ca3"
      },
      "execution_count": null,
      "outputs": [
        {
          "output_type": "stream",
          "name": "stdout",
          "text": [
            "Example:\n",
            "5\n",
            "4 -1 4 1 1\n",
            "3\n"
          ]
        }
      ]
    },
    {
      "cell_type": "markdown",
      "source": [
        "#3 Extending stack interface\n",
        "\n",
        "#Problem Introduction\n",
        "\n",
        "Stack is an abstract data type supporting the operations Push() and Pop(). It is not difficult to implement it in a way that both these operations work in constant time. In this problem, you goal will be to implement a stack that also supports finding the maximum value and to ensure that all operations still work in constant time.\n",
        "\n",
        "#Problem Description\n",
        "\n",
        "Task. Implement a stack supporting the operations Push(), Pop(), and Max().\n",
        "#Input Format.\n",
        " The first line of the input contains the number 𝑞 of queries. Each of the following 𝑞 lines\n",
        "specifies a query of one of the following formats: push v, pop, or max.\n",
        "\n",
        "#Constraints.\n",
        " 1 ≤ 𝑞 ≤ 400000, 0 ≤ 𝑣 ≤ 105.\n",
        "\n",
        "#Output Format.\n",
        " For each max query, output (on a separate line) the maximum value of the stack."
      ],
      "metadata": {
        "id": "MAp4S1g_VKlq"
      }
    },
    {
      "cell_type": "code",
      "source": [
        "#python3\n",
        "import sys\n",
        "\n",
        "class StackWithMax():\n",
        "    def __init__(self):\n",
        "        self.__stack = []\n",
        "        self.__Current_max= 0\n",
        "        self.__aux=[]\n",
        "\n",
        "    def Push(self, a):\n",
        "        self.__stack.append(a)\n",
        "        if(a >=self.__Current_max):\n",
        "          self.__Current_max = a\n",
        "          self.__aux.append(self.__Current_max)\n",
        "\n",
        "    def Pop(self):\n",
        "        assert(len(self.__stack))\n",
        "        a = self.__stack.pop()\n",
        "        if(a == self.__aux[-1]):\n",
        "          self.__aux.pop()\n",
        "\n",
        "\n",
        "    def Max(self):\n",
        "        assert(len(self.__stack))\n",
        "        return self.__aux[-1]\n",
        "\n",
        "\n",
        "if __name__ == '__main__':\n",
        "    print(\"example-----\")\n",
        "    stack = StackWithMax()\n",
        "\n",
        "    num_queries = int(input())\n",
        "    for _ in range(num_queries):\n",
        "        query = input().split()\n",
        "\n",
        "        if query[0] == \"push\":\n",
        "            stack.Push(int(query[1]))\n",
        "        elif query[0] == \"pop\":\n",
        "            stack.Pop()\n",
        "        elif query[0] == \"max\":\n",
        "            print(stack.Max())\n",
        "        else:\n",
        "            assert(0)\n"
      ],
      "metadata": {
        "colab": {
          "base_uri": "https://localhost:8080/"
        },
        "id": "Nn5h-FZuVLAT",
        "outputId": "075e4543-1e3a-41e9-d9a7-b077ba85c1c9"
      },
      "execution_count": null,
      "outputs": [
        {
          "output_type": "stream",
          "name": "stdout",
          "text": [
            "example-----\n",
            "7\n",
            "push 5\n",
            "max\n",
            "5\n",
            "push 6\n",
            "push 7\n",
            "max\n",
            "7\n",
            "pop\n",
            "max\n",
            "6\n"
          ]
        }
      ]
    },
    {
      "cell_type": "markdown",
      "source": [
        "-\n"
      ],
      "metadata": {
        "id": "GPDfp2dZ4Def"
      }
    },
    {
      "cell_type": "markdown",
      "source": [
        "# **# WEEK 2 PRIORITY QUEUES AND DISJOINT SETS**"
      ],
      "metadata": {
        "id": "sSz0qPxQ2Z4c"
      }
    },
    {
      "cell_type": "markdown",
      "source": [
        "# 1.Convert Array Into Heap"
      ],
      "metadata": {
        "id": "IhMNpqZ12mc8"
      }
    },
    {
      "cell_type": "markdown",
      "source": [
        "\n",
        "#Problem Introduction\n",
        "\n",
        "In this problem you will convert an array of integers into a heap. This is the crucial step of the sorting algorithm called HeapSort. It has guaranteed worst-case running time of 𝑂(𝑛 log 𝑛) as opposed to QuickSort’s average running time of 𝑂(𝑛 log 𝑛). QuickSort is usually used in practice, because typically it is faster, but HeapSort is used for external sort when you need to sort huge files that don’t fit into memory of your computer.\n",
        "\n",
        "#Problem Description\n",
        "\n",
        "Task. The first step of the HeapSort algorithm is to create a heap from the array you want to sort. By the way, did you know that algorithms based on Heaps are widely used for external sort, when you need to sort huge files that don’t fit into memory of a computer?\n",
        "Your task is to implement this first step and convert a given array of integers into a heap. You will do that by applying a certain number of swaps to the array. Swap is an operation which exchanges elements 𝑎𝑖 and 𝑎𝑗 of the array 𝑎 for some 𝑖 and 𝑗. You will need to convert the array into a heap using only 𝑂(𝑛) swaps, as was described in the lectures. Note that you will need to use a min-heap instead of a max-heap in this problem.\n",
        "\n",
        "#Input Format.\n",
        " The first line of the input contains single integer 𝑛. The next line contains 𝑛 space-separated integers 𝑎𝑖.\n",
        "Constraints. 1 ≤ 𝑛 ≤ 100000; 0 ≤ 𝑖,𝑗 ≤ 𝑛−1;0 ≤ 𝑎0,𝑎1,...,𝑎𝑛−1 ≤ 10^9. All 𝑎𝑖 are distinct.\n",
        "\n",
        "#Output Format.\n",
        " The first line of the output should contain single integer 𝑚 — the total number of swaps. 𝑚 must satisfy conditions 0 ≤ 𝑚 ≤ 4𝑛. The next 𝑚 lines should contain the swap operations used to convert the array 𝑎 into a heap. Each swap is described by a pair of integers 𝑖,𝑗 — the 0-based indices of the elements to be swapped. After applying all the swaps in the specified order the array must become a heap, that is, for each 𝑖 where 0 ≤ 𝑖 ≤ 𝑛 − 1 the following conditions must be true:\n",
        "1. If 2𝑖+1≤𝑛−1,then 𝑎𝑖 <𝑎2𝑖+1.\n",
        "2. If 2𝑖+2≤𝑛−1,then 𝑎𝑖 <𝑎2𝑖+2.\n",
        "\n",
        "Note that all the elements of the input array are distinct. Note that any sequence of swaps that has length at most 4𝑛 and after which your initial array becomes a correct heap will be graded as correct.\n"
      ],
      "metadata": {
        "id": "T8qPr_gX27Yi"
      }
    },
    {
      "cell_type": "code",
      "source": [
        "# python3\n",
        "\n",
        "\n",
        "def build_heap(data):\n",
        "    swaps = []\n",
        "    bool= False\n",
        "    r=1\n",
        "    i=0\n",
        "    l=len(data)-1\n",
        "    swaps=[]\n",
        "    if((l+1)%2 == 0):\n",
        "        if data[l] < data[int(((l + 1) / 2) - 1)]:\n",
        "            swaps.append((l,int(((l + 1) / 2) - 1)))\n",
        "            aux = data[int(((l + 1) / 2) - 1)]\n",
        "            data[int(((l + 1) / 2) - 1)] = data[l]\n",
        "            data[l] = aux\n",
        "\n",
        "        i=1\n",
        "    aux2=0\n",
        "    while bool == False:\n",
        "\n",
        "            if l-i>=0:\n",
        "                    if data[l-i]< data[l-i-1]:\n",
        "                             #print(l-i)\n",
        "                             if data[l-i]< data[int(((l+1-i)/2)-1)]:\n",
        "                                 swaps.append((l-i,int(((l+1-i)/2)-1)))\n",
        "                                 #print(data[int(((l+1-i)/2)-1)])\n",
        "                                 aux = data[int(((l+1-i)/2)-1)]\n",
        "                                 data[int(((l+1-i)/2)-1)] = data[l-i]\n",
        "                                 data[l-i]= aux\n",
        "                                 #print(data,\"here\")\n",
        "                                 aux2=1\n",
        "\n",
        "                    else:\n",
        "                            # print(data[l-i-1],data[int((l-i-1)/2)],\"flñasfklas\")\n",
        "                             if data[l-i-1] < data[int((l-i-1)/2)]:\n",
        "                                 swaps.append((l-i-1,int((l-i-1)/2)))\n",
        "                                 aux = data[int((l-i-1)/2)]\n",
        "                                 data[int((l-i-1)/2)] = data[l-i-1]\n",
        "                                 data[l-i-1] = aux\n",
        "                                 aux2=1\n",
        "                                 #print(data,\"here2\")\n",
        "                                 aux2=1\n",
        "\n",
        "                    i=i+2\n",
        "\n",
        "            else:\n",
        "               if aux2==1:\n",
        "                   if ((l + 1) % 2 == 0):\n",
        "                       if data[l] < data[int(((l + 1) / 2) - 1)]:\n",
        "                           swaps.append((l,int(((l + 1) / 2) - 1)))\n",
        "                           aux = data[int(((l + 1) / 2) - 1)]\n",
        "                           data[int(((l + 1) / 2) - 1)] = data[l]\n",
        "                           data[l] = aux\n",
        "                       i = 1\n",
        "                   else:\n",
        "                       i=0\n",
        "                   aux2=0\n",
        "               elif aux2==0:\n",
        "                   bool= True\n",
        "\n",
        "    return swaps\n",
        "\n",
        "\n",
        "def main():\n",
        "    print(\"EXAMPLE:\")\n",
        "    n = int(input())\n",
        "    data = list(map(int, input().split()))\n",
        "    assert len(data) == n\n",
        "\n",
        "    swaps = build_heap(data)\n",
        "    print(len(swaps))\n",
        "    for i, j in swaps:\n",
        "        print(j, i)\n",
        "    #print(data)\n",
        "\n",
        "\n",
        "if __name__ == \"__main__\":\n",
        "    main()"
      ],
      "metadata": {
        "colab": {
          "base_uri": "https://localhost:8080/"
        },
        "id": "rudfnX3q3rMM",
        "outputId": "3aacd2ab-d14b-46c4-cdb5-c6798643327e"
      },
      "execution_count": null,
      "outputs": [
        {
          "output_type": "stream",
          "name": "stdout",
          "text": [
            "EXAMPLE:\n",
            "5\n",
            "5 4 3 2 1\n",
            "3\n",
            "1 4\n",
            "0 1\n",
            "1 3\n"
          ]
        }
      ]
    },
    {
      "cell_type": "markdown",
      "source": [
        "# 2. Parallel processing"
      ],
      "metadata": {
        "id": "CV703nuADPpB"
      }
    },
    {
      "cell_type": "markdown",
      "source": [
        "# Problem Introduction\n",
        "\n",
        "In this problem you will simulate a program that processes a list of jobs in parallel. Operating systems such as Linux, MacOS or Windows all have special programs in them called schedulers which do exactly this with the programs on your computer.\n",
        "\n",
        "# Problem Description\n",
        "\n",
        "Task. You have a program which is parallelized and uses 𝑛 independent threads to process the given list of 𝑚 jobs. Threads take jobs in the order they are given in the input. If there is a free thread, it immediately takes the next job from the list. If a thread has started processing a job, it doesn’t interrupt or stop until it finishes processing the job. If several threads try to take jobs from the list simultaneously, the thread with smaller index takes the job. For each job you know exactly how long will it take any thread to process this job, and this time is the same for all the threads. You need to determine for each job which thread will process it and when will it start processing.\n",
        "\n",
        "# Input Format.\n",
        " The first line of the input contains integers 𝑛 and 𝑚.\n",
        "The second line contains 𝑚 integers 𝑡𝑖 — the times in seconds it takes any thread to process 𝑖-th job. The times are given in the same order as they are in the list from which threads take jobs.\n",
        "Threads are indexed starting from 0.\n",
        "\n",
        "#Output Format.\n",
        "\n",
        " Output exactly 𝑚 lines. 𝑖-th line (0-based index is used) should contain two space- separated integers — the 0-based index of the thread which will process the 𝑖-th job and the time in seconds when it will start processing that job."
      ],
      "metadata": {
        "id": "xHrWgjCVDUXS"
      }
    },
    {
      "cell_type": "code",
      "source": [
        "# python3\n",
        "import sys\n",
        "import heapq\n",
        "\n",
        "result=[]\n",
        "q=[]\n",
        "def assign_jobs(n_workers,jobs):\n",
        "    for i in range(n_workers):\n",
        "      heapq.heappush(q, (0, i))\n",
        "\n",
        "    for i in range(len(jobs)):\n",
        "         x, y = heapq.heappop(q)\n",
        "         result.append((x,y))\n",
        "         heapq.heappush(q, (x+jobs[i], y))\n",
        "\n",
        "    return result\n",
        "\n",
        "\n",
        "def main():\n",
        "    print(\"Example:\")\n",
        "    n_workers, n_jobs = map(int, input().split())\n",
        "    jobs = list(map(int, input().split()))\n",
        "    assert len(jobs) == n_jobs\n",
        "\n",
        "    assigned_jobs = assign_jobs(n_workers, jobs)\n",
        "    for x,y in assigned_jobs:\n",
        "        print(y, x)\n",
        "\n",
        "\n",
        "if __name__ == \"__main__\":\n",
        "    main()"
      ],
      "metadata": {
        "colab": {
          "base_uri": "https://localhost:8080/"
        },
        "id": "jhnh2c0d-nOf",
        "outputId": "065afab7-cb3d-4268-d7e5-ba91c9170418"
      },
      "execution_count": null,
      "outputs": [
        {
          "output_type": "stream",
          "name": "stdout",
          "text": [
            "Example:\n",
            "2 5\n",
            "1 2 3 4 5\n",
            "0 0\n",
            "1 0\n",
            "0 1\n",
            "1 2\n",
            "0 4\n"
          ]
        }
      ]
    },
    {
      "cell_type": "markdown",
      "source": [
        "-"
      ],
      "metadata": {
        "id": "phzyeKDq3_tX"
      }
    },
    {
      "cell_type": "markdown",
      "source": [
        "# **WEEK 4 HASH TABLES**"
      ],
      "metadata": {
        "id": "0e7ZastQ15TC"
      }
    },
    {
      "cell_type": "markdown",
      "source": [
        "#1. Phone book\n",
        "\n",
        "#Problem Introduction\n",
        "\n",
        "In this problem you will implement a simple phone book manager.\n",
        "\n",
        "#Problem Description\n",
        "\n",
        "Task. In this task your goal is to implement a simple phone book manager. It should be able to process the following types of user’s queries:\n",
        "∙ add number name. It means that the user adds a person with name name and phone number number to the phone book. If there exists a user with such number already, then your manager has to overwrite the corresponding name.\n",
        "∙ del number. It means that the manager should erase a person with number number from the phone book. If there is no such person, then it should just ignore the query.\n",
        "∙ find number. It means that the user looks for a person with phone number number. The manager should reply with the appropriate name, or with string “not found\" (without quotes) if there is no such person in the book.\n",
        "\n",
        "#Input Format.\n",
        " There is a single integer 𝑁 in the first line — the number of queries. It’s followed by 𝑁 lines, each of them contains one query in the format described above.\n",
        "\n",
        "#Constraints.\n",
        " 1 ≤ 𝑁 ≤ 105. All phone numbers consist of decimal digits, they don’t have leading zeros, and each of them has no more than 7 digits. All names are non-empty strings of latin letters, and each of them has length at most 15. It’s guaranteed that there is no person with name “not found\".\n",
        "\n",
        "#Output Format.\n",
        " Print the result of each find query — the name corresponding to the phone number or “not found\" (without quotes) if there is no person in the phone book with such phone number. Output one result per line in the same order as the find queries are given in the input."
      ],
      "metadata": {
        "id": "H6TclIOm2Y4J"
      }
    },
    {
      "cell_type": "code",
      "source": [
        "# python3\n",
        "\n",
        "class Query:\n",
        "    def __init__(self, query):\n",
        "        self.type = query[0]  # add, find ,delete\n",
        "        self.number = int(query[1]) #numero\n",
        "        if self.type == 'add':\n",
        "            self.name = query[2]  #nombre\n",
        "\n",
        "def read_queries():\n",
        "    n = int(input())\n",
        "    return [Query(input().split()) for i in range(n)]\n",
        "\n",
        "def write_responses(result):\n",
        "    print('\\n'.join(result))\n",
        "\n",
        "def process_queries(queries):\n",
        "    result = []\n",
        "    # Keep list of all existing (i.e. not deleted yet) contacts.\n",
        "    contacts = {}\n",
        "    for cur_query in queries:\n",
        "        if cur_query.type == 'add':\n",
        "            try:\n",
        "                del(contacts[cur_query.number])\n",
        "                contacts[cur_query.number] = cur_query.name\n",
        "            except:\n",
        "                contacts[cur_query.number] = cur_query.name\n",
        "        elif cur_query.type == 'del':\n",
        "                    try:\n",
        "                     del(contacts[cur_query.number])\n",
        "                    except:\n",
        "                        arroz=4\n",
        "        else:\n",
        "            try:\n",
        "                response = contacts[cur_query.number]\n",
        "            except:\n",
        "                response = 'not found'\n",
        "            result.append(response)\n",
        "    return result\n",
        "\n",
        "if __name__ == '__main__':\n",
        "    print(\"Example: \")\n",
        "    write_responses(process_queries(read_queries()))\n",
        "\n"
      ],
      "metadata": {
        "colab": {
          "base_uri": "https://localhost:8080/"
        },
        "id": "Nnz_4CuR247v",
        "outputId": "4f9f8150-9a24-4d03-a37a-9de11457488f"
      },
      "execution_count": null,
      "outputs": [
        {
          "output_type": "stream",
          "name": "stdout",
          "text": [
            "Example: \n",
            "5\n",
            "add 911 police\n",
            "add 765432 Mom\n",
            "find 911\n",
            "del 765432\n",
            "find 765432\n",
            "police\n",
            "not found\n"
          ]
        }
      ]
    },
    {
      "cell_type": "markdown",
      "source": [
        "#2. Find pattern in text"
      ],
      "metadata": {
        "id": "s-Boy42W36oi"
      }
    },
    {
      "cell_type": "markdown",
      "source": [
        "\n",
        "#Problem Introduction\n",
        "\n",
        "In this problem, your goal is to implement the Rabin–Karp’s algorithm.\n",
        "\n",
        "#Problem Description\n",
        "\n",
        "Task. In this problem your goal is to implement the Rabin–Karp’s algorithm for searching the given pattern in the given text.\n",
        "#Input Format.\n",
        "\n",
        " There are two strings in the input: the pattern 𝑃 and the text 𝑇 .\n",
        "#Constraints.\n",
        "\n",
        " 1 ≤ |𝑃 | ≤ |𝑇 | ≤ 5 · 105. The total length of all occurrences of 𝑃 in 𝑇 doesn’t exceed 108. The\n",
        "pattern and the text contain only latin letters.\n",
        "\n",
        "#Output Format.\n",
        "\n",
        " Print all the positions of the occurrences of 𝑃 in 𝑇 in the ascending order. Use 0-based\n"
      ],
      "metadata": {
        "id": "ChT1tlUK3r5c"
      }
    },
    {
      "cell_type": "code",
      "source": [
        "# python3\n",
        "\n",
        "def read_input():\n",
        "    return (input().rstrip(), input().rstrip())\n",
        "\n",
        "def print_occurrences(output):\n",
        "    print(' '.join(map(str, output)))\n",
        "\n",
        "def get_occurrences(pattern, text):\n",
        "    return [\n",
        "        i \n",
        "        for i in range(len(text) - len(pattern) + 1) \n",
        "        if text[i:i + len(pattern)] == pattern\n",
        "    ]\n",
        "\n",
        "if __name__ == '__main__':\n",
        "    print(\"Example: \")\n",
        "    print_occurrences(get_occurrences(*read_input()))\n",
        "\n"
      ],
      "metadata": {
        "colab": {
          "base_uri": "https://localhost:8080/"
        },
        "id": "XaQ9aqi74Fyn",
        "outputId": "384b64c5-7cf1-4896-f2a6-097abd948f35"
      },
      "execution_count": null,
      "outputs": [
        {
          "output_type": "stream",
          "name": "stdout",
          "text": [
            "Example: \n",
            "aba\n",
            "abacaba\n",
            "0 4\n"
          ]
        }
      ]
    },
    {
      "cell_type": "markdown",
      "source": [
        "-"
      ],
      "metadata": {
        "id": "Dw3itbZivQEh"
      }
    },
    {
      "cell_type": "markdown",
      "source": [
        "# **WEEK 5-6 BINARY SEARCH TREES, ***"
      ],
      "metadata": {
        "id": "I4yciQvmuZuJ"
      }
    },
    {
      "cell_type": "markdown",
      "source": [
        "#1. Binary tree traversals"
      ],
      "metadata": {
        "id": "1JB_AzNJvOqK"
      }
    },
    {
      "cell_type": "markdown",
      "source": [
        "\n",
        "\n",
        "#Problem Introduction\n",
        "\n",
        "In this problem you will implement in-order, pre-order and post-order traversals of a binary tree. These traversals were defined in the week 1 lecture on tree traversals, but it is very useful to practice implementing them to understand binary search trees better.\n",
        "\n",
        "#Problem Description\n",
        "\n",
        "Task. You are given a rooted binary tree. Build and output its in-order, pre-order and post-order traversals.\n",
        "\n",
        "\n",
        "#Input Format.\n",
        "  The first line contains the number of vertices 𝑛. The vertices of the tree are numbered\n",
        "from 0 to 𝑛−1. Vertex 0 is the root.\n",
        "The next 𝑛 lines contain information about vertices 0, 1, ..., 𝑛 − 1 in order. Each of these lines contains three integers 𝑘𝑒𝑦𝑖, 𝑙𝑒𝑓𝑡𝑖 and 𝑟𝑖𝑔h𝑡𝑖 — 𝑘𝑒𝑦𝑖 is the key of the 𝑖-th vertex, 𝑙𝑒𝑓𝑡𝑖 is the index of the left child of the 𝑖-th vertex, and 𝑟𝑖𝑔h𝑡𝑖 is the index of the right child of the 𝑖-th vertex. If 𝑖 doesn’t have left or right child (or both), the corresponding 𝑙𝑒𝑓𝑡𝑖 or 𝑟𝑖𝑔h𝑡𝑖 (or both) will be equal to −1. It is guaranteed that the input represents a valid binary tree. In particular, if 𝑙𝑒𝑓𝑡𝑖 ̸= −1 and 𝑟𝑖𝑔h𝑡𝑖 ̸= −1, then 𝑙𝑒𝑓𝑡𝑖 ̸= 𝑟𝑖𝑔h𝑡𝑖. Also, a vertex cannot be a child of two different vertices. Also, each vertex is a descendant of the root vertex.\n",
        "\n",
        "#Output Format.\n",
        " Print three lines. The first line should contain the keys of the vertices in the in-order traversal of the tree. The second line should contain the keys of the vertices in the pre-order traversal of the tree. The third line should contain the keys of the vertices in the post-order traversal of the tree."
      ],
      "metadata": {
        "id": "zPGsNyshuy3v"
      }
    },
    {
      "cell_type": "code",
      "source": [
        "# python3\n",
        "# run it in your IDE\n",
        "import sys, threading\n",
        "\n",
        "sys.setrecursionlimit(10 ** 6)  # max depth of recursion\n",
        "threading.stack_size(2 ** 27)  # new thread will get stack of such size\n",
        "\n",
        "\n",
        "class TreeOrders:\n",
        "    def read(self):\n",
        "        self.n = int(sys.stdin.readline())\n",
        "        self.key = [0 for _ in range(self.n)]\n",
        "        self.left = [0 for _ in range(self.n)]\n",
        "        self.right = [0 for _ in range(self.n)]\n",
        "        for i in range(self.n):\n",
        "            self.key[i], self.left[i], self.right[i] = map(\n",
        "                int, sys.stdin.readline().split()\n",
        "            )\n",
        "    def inOrder(self,i=0,result = []):\n",
        "        if i!=-1 :\n",
        "            self.inOrder(self.left[i],result)\n",
        "            result.append(self.key[i])\n",
        "            self.inOrder(self.right[i],result)\n",
        "        return result\n",
        "\n",
        "    def preOrder(self,i=0,result=[]):\n",
        "        if i!=-1 :\n",
        "            result.append(self.key[i])\n",
        "            self.preOrder(self.left[i],result)\n",
        "            self.preOrder(self.right[i],result)\n",
        "        return result\n",
        "\n",
        "    def postOrder(self,i=0,result=[]):\n",
        "        if i!=-1 :\n",
        "            self.postOrder(self.left[i],result)\n",
        "            self.postOrder(self.right[i],result)\n",
        "            result.append(self.key[i])\n",
        "        return result\n",
        "\n",
        "def main():\n",
        "    tree = TreeOrders()\n",
        "    tree.read()\n",
        "    print(\" \".join(str(x) for x in tree.inOrder()))\n",
        "    print(\" \".join(str(x) for x in tree.preOrder()))\n",
        "    print(\" \".join(str(x) for x in tree.postOrder()))\n",
        "\n",
        "\n",
        "threading.Thread(target=main).start()"
      ],
      "metadata": {
        "id": "JV1hCFWovUv-"
      },
      "execution_count": null,
      "outputs": []
    },
    {
      "cell_type": "markdown",
      "source": [
        "# 2. Is it a binary search tree?"
      ],
      "metadata": {
        "id": "4tN1Yul921hS"
      }
    },
    {
      "cell_type": "markdown",
      "source": [
        "#Problem Introduction\n",
        "\n",
        "In this problem you are going to test whether a binary search tree data structure from some programming language library was implemented correctly. There is already a program that plays with this data structure by inserting, removing, searching integers in the data structure and outputs the state of the internal binary tree after each operation. Now you need to test whether the given binary tree is indeed a correct binary search tree. In other words, you want to ensure that you can search for integers in this binary tree using binary search through the tree, and you will always get correct result: if the integer is in the tree, you will find it, otherwise you will not.\n",
        "\n",
        "#Problem Description\n",
        "Task. You are given a binary tree with integers as its keys. You need to test whether it is a correct binary search tree. The definition of the binary search tree is the following: for any node of the tree, if its key is 𝑥, then for any node in its left subtree its key must be strictly less than 𝑥, and for any node in its right subtree its key must be strictly greater than 𝑥. In other words, smaller elements are to the left, and bigger elements are to the right. You need to check whether the given binary tree structure satisfies this condition. You are guaranteed that the input contains a valid binary tree. That is, it is a tree, and each node has at most two children.\n",
        "\n",
        "#Input Format.\n",
        " The first line contains the number of vertices 𝑛. The vertices of the tree are numbered from 0 to 𝑛−1. Vertex 0 is the root.\n",
        "The next 𝑛 lines contain information about vertices 0, 1, ..., 𝑛 − 1 in order. Each of these lines contains three integers 𝑘𝑒𝑦𝑖, 𝑙𝑒𝑓𝑡𝑖 and 𝑟𝑖𝑔h𝑡𝑖 — 𝑘𝑒𝑦𝑖 is the key of the 𝑖-th vertex, 𝑙𝑒𝑓𝑡𝑖 is the index of the left child of the 𝑖-th vertex, and 𝑟𝑖𝑔h𝑡𝑖 is the index of the right child of the 𝑖-th vertex. If 𝑖 doesn’t have left or right child (or both), the corresponding 𝑙𝑒𝑓𝑡𝑖 or 𝑟𝑖𝑔h𝑡𝑖 (or both) will be equal to −1.\n",
        "\n",
        "#Output Format.\n",
        " If the given binary tree is a correct binary search tree (see the definition in the problem description), output one word “CORRECT” (without quotes). Otherwise, output one word “INCOR- RECT” (without quotes).\n"
      ],
      "metadata": {
        "id": "nU_vZgd_2lCL"
      }
    },
    {
      "cell_type": "code",
      "source": [
        "# python3\n",
        "\n",
        "import sys, threading\n",
        "\n",
        "sys.setrecursionlimit(10 ** 6)  # max depth of recursion\n",
        "threading.stack_size(2 ** 27)  # new thread will get stack of such size\n",
        "\n",
        "\n",
        "class TreeOrders:\n",
        "    def read(self):\n",
        "        self.n = int(sys.stdin.readline())\n",
        "        self.key = [0 for _ in range(self.n)]\n",
        "        self.left = [0 for _ in range(self.n)]\n",
        "        self.right = [0 for _ in range(self.n)]\n",
        "        for i in range(self.n):\n",
        "            self.key[i], self.left[i], self.right[i] = map(\n",
        "                int, sys.stdin.readline().split()\n",
        "            )\n",
        "    def inOrder(self,i=0,result = []):\n",
        "        if i!=-1 :\n",
        "            self.inOrder(self.left[i],result)\n",
        "            result.append(self.key[i])\n",
        "            self.inOrder(self.right[i],result)\n",
        "        return result\n",
        "\n",
        "    def IsBinarySearchTree(self):\n",
        "        result=self.inOrder()\n",
        "        for i in range(len(result) - 1):\n",
        "            if result[i] > result[i + 1]:\n",
        "                return \"INCORRECT\"\n",
        "        return \"CORRECT\"\n",
        "\n",
        "def main():\n",
        "    tree = TreeOrders()\n",
        "    tree.read()\n",
        "    if tree.n == 0:\n",
        "        print(\"CORRECT\")\n",
        "    print(tree.IsBinarySearchTree())\n",
        "\n",
        "\n",
        "threading.Thread(target=main).start()"
      ],
      "metadata": {
        "id": "SFXB77nIzio7"
      },
      "execution_count": null,
      "outputs": []
    }
  ]
}